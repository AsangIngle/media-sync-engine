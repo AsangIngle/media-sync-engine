{
 "cells": [
  {
   "cell_type": "code",
   "execution_count": 92,
   "id": "2360055b",
   "metadata": {},
   "outputs": [],
   "source": [
    "import os\n",
    "import cv2\n",
    "from PIL import Image\n",
    "import moviepy.video.fx.all as vfx \n",
    "import re\n",
    "from gtts import gTTS\n",
    "from langchain_ollama import OllamaLLM\n",
    "from transformers import BlipProcessor, BlipForConditionalGeneration\n",
    "from ultralytics import YOLO\n",
    "from moviepy.editor import VideoFileClip, AudioFileClip,concatenate_videoclips\n",
    "import moviepy.audio.fx.all as vfx \n",
    "from langchain.prompts import ChatPromptTemplate"
   ]
  },
  {
   "cell_type": "code",
   "execution_count": 2,
   "id": "f9a32280",
   "metadata": {},
   "outputs": [],
   "source": [
    "video_path = \"C:/Users/HP/Downloads/3195366-uhd_3840_2160_25fps.mp4\"\n",
    "audio_output = \"video_comentry.mp3\"\n",
    "final_video_output = \"final_output_with_audio.mp4\"\n"
   ]
  },
  {
   "cell_type": "code",
   "execution_count": null,
   "id": "2f1a36d1",
   "metadata": {},
   "outputs": [
    {
     "name": "stderr",
     "output_type": "stream",
     "text": [
      "Using a slow image processor as `use_fast` is unset and a slow processor was saved with this model. `use_fast=True` will be the default behavior in v4.52, even if the model was saved with a slow processor. This will result in minor differences in outputs. You'll still be able to use a slow processor with `use_fast=False`.\n"
     ]
    },
    {
     "name": "stderr",
     "output_type": "stream",
     "text": [
      "Error while downloading from https://cdn-lfs.hf.co/repos/f1/cb/f1cbe4cfb2a267026632ce513d5918162e03df2ee28456145ba8a1d25cf39aad/90f4c493dfc6f4c2152c8bfcfd52ee141055feb835eea2dceb8b9231e5dbf17c?response-content-disposition=inline%3B+filename*%3DUTF-8%27%27model.safetensors%3B+filename%3D%22model.safetensors%22%3B&Expires=1753539933&Policy=eyJTdGF0ZW1lbnQiOlt7IkNvbmRpdGlvbiI6eyJEYXRlTGVzc1RoYW4iOnsiQVdTOkVwb2NoVGltZSI6MTc1MzUzOTkzM319LCJSZXNvdXJjZSI6Imh0dHBzOi8vY2RuLWxmcy5oZi5jby9yZXBvcy9mMS9jYi9mMWNiZTRjZmIyYTI2NzAyNjYzMmNlNTEzZDU5MTgxNjJlMDNkZjJlZTI4NDU2MTQ1YmE4YTFkMjVjZjM5YWFkLzkwZjRjNDkzZGZjNmY0YzIxNTJjOGJmY2ZkNTJlZTE0MTA1NWZlYjgzNWVlYTJkY2ViOGI5MjMxZTVkYmYxN2M%7EcmVzcG9uc2UtY29udGVudC1kaXNwb3NpdGlvbj0qIn1dfQ__&Signature=toerhbefCJIX86n6G6DxOtVNboSEnxjJgmJ3Mtcvt6NcNf6EakHhRpGsr1j45IZ2k1xgPhu2R7AT1%7ECv%7Etazbdqqec1e2vdfdCnq29qiJMjr1%7Es48wcYo5I76m78fX8vuDH4uRP%7Eh7FgL4fxyOStKxyoqlf9ehFwEB3UP-rqa5jUkARUO8KPCIHEiTdyusS5b2A07NSDnbwNH7rA1ejEzPpCZ1gm8QVtCQaLzh9JiqtTeJL4BFzIQfjx-rD5Cv5RZMBgpcMDoiSNuWHkaWBIJxpuWTLDTFzd2EkuRS2M1S80OHcHWENSDHA1LQuCvYzE4v7sghHzqQoiXR4PESefNQ__&Key-Pair-Id=K3RPWS32NSSJCE: HTTPSConnectionPool(host='cdn-lfs.hf.co', port=443): Read timed out.\n",
      "Trying to resume download...\n",
      "Error while downloading from https://cdn-lfs.hf.co/repos/f1/cb/f1cbe4cfb2a267026632ce513d5918162e03df2ee28456145ba8a1d25cf39aad/90f4c493dfc6f4c2152c8bfcfd52ee141055feb835eea2dceb8b9231e5dbf17c?response-content-disposition=inline%3B+filename*%3DUTF-8%27%27model.safetensors%3B+filename%3D%22model.safetensors%22%3B&Expires=1753539933&Policy=eyJTdGF0ZW1lbnQiOlt7IkNvbmRpdGlvbiI6eyJEYXRlTGVzc1RoYW4iOnsiQVdTOkVwb2NoVGltZSI6MTc1MzUzOTkzM319LCJSZXNvdXJjZSI6Imh0dHBzOi8vY2RuLWxmcy5oZi5jby9yZXBvcy9mMS9jYi9mMWNiZTRjZmIyYTI2NzAyNjYzMmNlNTEzZDU5MTgxNjJlMDNkZjJlZTI4NDU2MTQ1YmE4YTFkMjVjZjM5YWFkLzkwZjRjNDkzZGZjNmY0YzIxNTJjOGJmY2ZkNTJlZTE0MTA1NWZlYjgzNWVlYTJkY2ViOGI5MjMxZTVkYmYxN2M%7EcmVzcG9uc2UtY29udGVudC1kaXNwb3NpdGlvbj0qIn1dfQ__&Signature=toerhbefCJIX86n6G6DxOtVNboSEnxjJgmJ3Mtcvt6NcNf6EakHhRpGsr1j45IZ2k1xgPhu2R7AT1%7ECv%7Etazbdqqec1e2vdfdCnq29qiJMjr1%7Es48wcYo5I76m78fX8vuDH4uRP%7Eh7FgL4fxyOStKxyoqlf9ehFwEB3UP-rqa5jUkARUO8KPCIHEiTdyusS5b2A07NSDnbwNH7rA1ejEzPpCZ1gm8QVtCQaLzh9JiqtTeJL4BFzIQfjx-rD5Cv5RZMBgpcMDoiSNuWHkaWBIJxpuWTLDTFzd2EkuRS2M1S80OHcHWENSDHA1LQuCvYzE4v7sghHzqQoiXR4PESefNQ__&Key-Pair-Id=K3RPWS32NSSJCE: HTTPSConnectionPool(host='cdn-lfs.hf.co', port=443): Read timed out.\n",
      "Trying to resume download...\n"
     ]
    }
   ],
   "source": [
    "model=YOLO('yolov8n.pt')\n",
    "processor=BlipProcessor.from_pretrained('Salesforce/blip-image-captioning-base')\n",
    "caption_model=BlipForConditionalGeneration.from_pretrained('Salesforce/blip-image-captioning-base')"
   ]
  },
  {
   "cell_type": "code",
   "execution_count": 5,
   "id": "79a77598",
   "metadata": {},
   "outputs": [],
   "source": [
    "llm=OllamaLLM(model='llama3')"
   ]
  },
  {
   "cell_type": "code",
   "execution_count": 6,
   "id": "b5712953",
   "metadata": {},
   "outputs": [],
   "source": [
    "cap=cv2.VideoCapture(video_path)"
   ]
  },
  {
   "cell_type": "code",
   "execution_count": 8,
   "id": "667d68b2",
   "metadata": {},
   "outputs": [
    {
     "name": "stdout",
     "output_type": "stream",
     "text": [
      "\n",
      "[INFO] Starting frame processing...\n"
     ]
    }
   ],
   "source": [
    "dialogs=[]\n",
    "count=0\n",
    "total_frames=int(cap.get(cv2.CAP_PROP_FRAME_COUNT))\n",
    "print(\"\\n[INFO] Starting frame processing...\")"
   ]
  },
  {
   "cell_type": "code",
   "execution_count": 9,
   "id": "eb5a3fbc",
   "metadata": {},
   "outputs": [
    {
     "name": "stdout",
     "output_type": "stream",
     "text": [
      "Processed frame 1/449 - Caption: a soccer goal with a soccer ball in the goal\n",
      "Processed frame 2/449 - Caption: a soccer goal with a soccer ball in the goal\n",
      "Processed frame 3/449 - Caption: a soccer goal with a soccer ball in the goal\n",
      "Processed frame 4/449 - Caption: a soccer goal with a soccer ball in the goal\n",
      "Processed frame 5/449 - Caption: a soccer goal with a soccer ball in the goal\n",
      "Processed frame 6/449 - Caption: a soccer goal with a soccer ball in the goal\n",
      "Processed frame 7/449 - Caption: a soccer goal with a soccer ball in the goal\n",
      "Processed frame 8/449 - Caption: a soccer goal with a man in the background\n",
      "Processed frame 9/449 - Caption: a soccer goal with a man in the background\n",
      "Processed frame 10/449 - Caption: a soccer goal with a man in the background\n",
      "Processed frame 11/449 - Caption: a soccer goal with a man in the background\n",
      "Processed frame 12/449 - Caption: a soccer goal with a man in the background\n",
      "Processed frame 13/449 - Caption: a soccer goal with a man in the background\n",
      "Processed frame 14/449 - Caption: a soccer goal with a man in the background\n",
      "Processed frame 15/449 - Caption: a soccer goal with a man in the background\n",
      "Processed frame 16/449 - Caption: a soccer goal with a man in the background\n",
      "Processed frame 17/449 - Caption: a soccer goal with a man in the background\n",
      "Processed frame 18/449 - Caption: a soccer goal with a man in the background\n",
      "Processed frame 19/449 - Caption: a soccer goal with a man in the background\n",
      "Processed frame 20/449 - Caption: a man standing in front of a soccer goal\n",
      "Processed frame 21/449 - Caption: a man standing in a soccer field with a soccer ball\n",
      "Processed frame 22/449 - Caption: a man standing in front of a soccer goal\n",
      "Processed frame 23/449 - Caption: a man standing in front of a soccer goal\n",
      "Processed frame 24/449 - Caption: a man standing in front of a soccer goal\n",
      "Processed frame 25/449 - Caption: a soccer goal with a man in the background\n",
      "Processed frame 26/449 - Caption: a soccer goal with a man in the background\n",
      "Processed frame 27/449 - Caption: a man standing in a soccer field with a soccer ball\n",
      "Processed frame 28/449 - Caption: a man standing in a soccer field with a soccer ball\n",
      "Processed frame 29/449 - Caption: a man in a red shirt is playing soccer\n",
      "Processed frame 30/449 - Caption: a man in a red shirt is playing soccer\n",
      "Processed frame 31/449 - Caption: a man in a red shirt is playing soccer\n",
      "Processed frame 32/449 - Caption: a man in a red shirt is playing soccer\n",
      "Processed frame 33/449 - Caption: a man in a red shirt is playing soccer\n",
      "Processed frame 34/449 - Caption: a man in a red shirt is playing soccer\n",
      "Processed frame 35/449 - Caption: a man in a red shirt is playing soccer\n",
      "Processed frame 36/449 - Caption: a man in a red shirt is playing soccer\n",
      "Processed frame 37/449 - Caption: a man in a red shirt is playing soccer\n",
      "Processed frame 38/449 - Caption: a man in a red shirt is playing soccer\n",
      "Processed frame 39/449 - Caption: a man in a red shirt is playing soccer\n",
      "Processed frame 40/449 - Caption: a man in a red shirt is playing soccer\n",
      "Processed frame 41/449 - Caption: a man in a red shirt is playing soccer\n",
      "Processed frame 42/449 - Caption: a man in a red shirt is playing soccer\n",
      "Processed frame 43/449 - Caption: a man in a red shirt is playing soccer\n",
      "Processed frame 44/449 - Caption: a man in a red shirt is playing soccer\n",
      "Processed frame 45/449 - Caption: a man in a red shirt is playing soccer\n",
      "Processed frame 46/449 - Caption: a man is playing soccer on a field\n",
      "Processed frame 47/449 - Caption: a man is playing soccer on a field\n",
      "Processed frame 48/449 - Caption: a man is playing soccer on the grass\n",
      "Processed frame 49/449 - Caption: a man is playing soccer on a field\n",
      "Processed frame 50/449 - Caption: a man in a red shirt is playing soccer\n",
      "Processed frame 51/449 - Caption: a man in a red shirt is playing soccer\n",
      "Processed frame 52/449 - Caption: a man is playing soccer on a field\n",
      "Processed frame 53/449 - Caption: a man in a red shirt is playing soccer\n",
      "Processed frame 54/449 - Caption: a man in a red shirt is playing soccer\n",
      "Processed frame 55/449 - Caption: a man in a red shirt is playing soccer\n",
      "Processed frame 56/449 - Caption: a man in a red shirt is playing soccer\n",
      "Processed frame 57/449 - Caption: a man in a red shirt is playing soccer\n",
      "Processed frame 58/449 - Caption: a man in a red shirt is playing soccer\n",
      "Processed frame 59/449 - Caption: a man in a red shirt is playing soccer\n",
      "Processed frame 60/449 - Caption: a man in a red shirt is playing soccer\n",
      "Processed frame 61/449 - Caption: a man in a red shirt is playing soccer\n",
      "Processed frame 62/449 - Caption: a man in a red shirt is playing soccer\n",
      "Processed frame 63/449 - Caption: a man is playing soccer on a field\n",
      "Processed frame 64/449 - Caption: a man is playing soccer on a field\n",
      "Processed frame 65/449 - Caption: a man is playing soccer on a field\n",
      "Processed frame 66/449 - Caption: a man is playing soccer on a field\n",
      "Processed frame 67/449 - Caption: a man is playing soccer on a field\n",
      "Processed frame 68/449 - Caption: a man standing in a soccer field with a ball\n",
      "Processed frame 69/449 - Caption: a man standing in a field with a soccer ball\n",
      "Processed frame 70/449 - Caption: a man standing in a soccer field with a soccer ball\n",
      "Processed frame 71/449 - Caption: a man standing in a soccer field with a soccer ball\n",
      "Processed frame 72/449 - Caption: a man standing in a field with a soccer ball\n",
      "Processed frame 73/449 - Caption: a man in a red shirt is playing soccer\n",
      "Processed frame 74/449 - Caption: a soccer goal with a man in the background\n",
      "Processed frame 75/449 - Caption: a man standing in front of a soccer goal\n",
      "Processed frame 76/449 - Caption: a man standing in a soccer field with a ball\n",
      "Processed frame 77/449 - Caption: a soccer goal with a man in the background\n",
      "Processed frame 78/449 - Caption: a soccer goal with a man in the background\n",
      "Processed frame 79/449 - Caption: a man standing in a soccer field with a soccer ball\n",
      "Processed frame 80/449 - Caption: a man standing in front of a soccer goal\n",
      "Processed frame 81/449 - Caption: a man in a red shirt is playing soccer\n",
      "Processed frame 82/449 - Caption: a man in a red shirt is playing soccer\n",
      "Processed frame 83/449 - Caption: a man in a red shirt is playing soccer\n",
      "Processed frame 84/449 - Caption: a man standing in front of a soccer goal\n",
      "Processed frame 85/449 - Caption: a man standing in front of a soccer goal\n",
      "Processed frame 86/449 - Caption: a man standing in front of a soccer goal\n",
      "Processed frame 87/449 - Caption: a man standing in front of a soccer goal\n",
      "Processed frame 88/449 - Caption: a man standing in front of a soccer goal\n",
      "Processed frame 89/449 - Caption: a man in a red shirt is playing soccer\n",
      "Processed frame 90/449 - Caption: a soccer goal with a man in the background\n",
      "Processed frame 91/449 - Caption: a soccer goal with a man in the background\n",
      "Processed frame 92/449 - Caption: a soccer goal with a man in the background\n",
      "Processed frame 93/449 - Caption: a soccer goal with a man in the background\n",
      "Processed frame 94/449 - Caption: a soccer goal with a man in the background\n",
      "Processed frame 95/449 - Caption: a soccer goal with a man in the background\n",
      "Processed frame 96/449 - Caption: a soccer goal with a man in the background\n",
      "Processed frame 97/449 - Caption: a soccer goal with a man in the background\n",
      "Processed frame 98/449 - Caption: a soccer goal with a man in the background\n",
      "Processed frame 99/449 - Caption: a soccer goal with a man in the background\n",
      "Processed frame 100/449 - Caption: a soccer goal with a man in the background\n",
      "Processed frame 101/449 - Caption: a soccer goal with a man in the background\n",
      "Processed frame 102/449 - Caption: a soccer goal with a man in the background\n",
      "Processed frame 103/449 - Caption: a man in a red shirt is playing soccer\n",
      "Processed frame 104/449 - Caption: a man in a red shirt is playing soccer\n",
      "Processed frame 105/449 - Caption: a man in a red shirt is playing soccer\n",
      "Processed frame 106/449 - Caption: a man in a red shirt is playing soccer\n",
      "Processed frame 107/449 - Caption: a man in a red shirt is playing soccer\n",
      "Processed frame 108/449 - Caption: a man in a red shirt is playing soccer\n",
      "Processed frame 109/449 - Caption: a man in a red shirt is playing soccer\n",
      "Processed frame 110/449 - Caption: a man in a red shirt is playing soccer\n",
      "Processed frame 111/449 - Caption: a man in a red shirt is playing soccer\n",
      "Processed frame 112/449 - Caption: a man in a red shirt is playing soccer\n",
      "Processed frame 113/449 - Caption: a man in a red shirt is playing soccer\n",
      "Processed frame 114/449 - Caption: a man in a red shirt is playing soccer\n",
      "Processed frame 115/449 - Caption: a man in a red shirt is playing soccer\n",
      "Processed frame 116/449 - Caption: a man in a red shirt is playing soccer\n",
      "Processed frame 117/449 - Caption: a man in a red shirt is playing soccer\n",
      "Processed frame 118/449 - Caption: a man in a red shirt is playing soccer\n",
      "Processed frame 119/449 - Caption: a man in a red shirt is playing soccer\n",
      "Processed frame 120/449 - Caption: a man in a red shirt is playing soccer\n",
      "Processed frame 121/449 - Caption: a man in a red shirt is playing soccer\n",
      "Processed frame 122/449 - Caption: a man in a red shirt is playing soccer\n",
      "Processed frame 123/449 - Caption: a man in a red shirt is playing soccer\n",
      "Processed frame 124/449 - Caption: a man in a red shirt is playing soccer\n",
      "Processed frame 125/449 - Caption: a man in a red shirt is playing soccer\n",
      "Processed frame 126/449 - Caption: a man in a red shirt is playing soccer\n",
      "Processed frame 127/449 - Caption: a man in a red shirt is playing soccer\n",
      "Processed frame 128/449 - Caption: a man in a red shirt is playing soccer\n",
      "Processed frame 129/449 - Caption: a man in a red shirt is playing soccer\n",
      "Processed frame 130/449 - Caption: a man in a red shirt is playing soccer\n",
      "Processed frame 131/449 - Caption: a man in a red shirt is playing soccer\n",
      "Processed frame 132/449 - Caption: a man in a red shirt is playing soccer\n",
      "Processed frame 133/449 - Caption: a man in a red shirt is playing soccer\n",
      "Processed frame 134/449 - Caption: a man in a red shirt is playing soccer\n",
      "Processed frame 135/449 - Caption: a man in a red shirt is playing soccer\n",
      "Processed frame 136/449 - Caption: a man in a red shirt is playing soccer\n",
      "Processed frame 137/449 - Caption: a man in a red shirt is playing soccer\n",
      "Processed frame 138/449 - Caption: a man in a red shirt is playing soccer\n",
      "Processed frame 139/449 - Caption: a soccer goal with a man in the background\n",
      "Processed frame 140/449 - Caption: a man in a red shirt is playing soccer\n",
      "Processed frame 141/449 - Caption: a man in a red shirt is playing soccer\n",
      "Processed frame 142/449 - Caption: a man in a red shirt is playing soccer\n",
      "Processed frame 143/449 - Caption: a man in a red shirt is playing soccer\n",
      "Processed frame 144/449 - Caption: a man in a red shirt is playing soccer\n",
      "Processed frame 145/449 - Caption: a man in a red shirt is playing soccer\n",
      "Processed frame 146/449 - Caption: a man in a red shirt is playing soccer\n",
      "Processed frame 147/449 - Caption: a man in a red shirt is playing soccer\n",
      "Processed frame 148/449 - Caption: a man in a red shirt is playing soccer\n",
      "Processed frame 149/449 - Caption: a man in a red shirt is playing soccer\n",
      "Processed frame 150/449 - Caption: a man in a red shirt is playing soccer\n",
      "Processed frame 151/449 - Caption: a man in a red shirt is playing soccer\n",
      "Processed frame 152/449 - Caption: a man in a red shirt is playing soccer\n",
      "Processed frame 153/449 - Caption: a man in a red shirt is playing soccer\n",
      "Processed frame 154/449 - Caption: a man in a red shirt is playing soccer\n",
      "Processed frame 155/449 - Caption: a man in a red shirt is playing soccer\n",
      "Processed frame 156/449 - Caption: a man in a red shirt is playing soccer\n",
      "Processed frame 157/449 - Caption: a man in a red shirt is playing soccer\n",
      "Processed frame 158/449 - Caption: a man in a red shirt is playing soccer\n",
      "Processed frame 159/449 - Caption: a man in a red shirt is playing soccer\n",
      "Processed frame 160/449 - Caption: a man in a red shirt is playing soccer\n",
      "Processed frame 161/449 - Caption: a man in a red shirt is playing soccer\n",
      "Processed frame 162/449 - Caption: a man in a red shirt is playing soccer\n",
      "Processed frame 163/449 - Caption: a man in a red shirt is playing soccer\n",
      "Processed frame 164/449 - Caption: a man in a red shirt is playing soccer\n",
      "Processed frame 165/449 - Caption: a man in a red shirt is playing soccer\n",
      "Processed frame 166/449 - Caption: a man in a red shirt is playing soccer\n",
      "Processed frame 167/449 - Caption: a man in a red shirt is playing soccer\n",
      "Processed frame 168/449 - Caption: a man in a red shirt is playing soccer\n",
      "Processed frame 169/449 - Caption: a man in a red shirt is playing soccer\n",
      "Processed frame 170/449 - Caption: a man in a red shirt is playing soccer\n",
      "Processed frame 171/449 - Caption: a man in a red shirt is playing soccer\n",
      "Processed frame 172/449 - Caption: a man in a red shirt is playing soccer\n",
      "Processed frame 173/449 - Caption: a man in a red shirt is playing soccer\n",
      "Processed frame 174/449 - Caption: a man kicking a soccer ball in a field\n",
      "Processed frame 175/449 - Caption: a man kicking a soccer ball in a field\n",
      "Processed frame 176/449 - Caption: a man kicking a soccer ball in a field\n",
      "Processed frame 177/449 - Caption: a man kicking a soccer ball in a field\n",
      "Processed frame 178/449 - Caption: a man kicking a soccer ball in a field\n",
      "Processed frame 179/449 - Caption: a man kicking a soccer ball in a field\n",
      "Processed frame 180/449 - Caption: a man kicking a soccer ball in a field\n",
      "Processed frame 181/449 - Caption: a man kicking a soccer ball into a goal\n",
      "Processed frame 182/449 - Caption: a man kicking a soccer ball into a goal\n",
      "Processed frame 183/449 - Caption: a man kicking a soccer ball into a goal\n",
      "Processed frame 184/449 - Caption: a man kicking a soccer ball in a field\n",
      "Processed frame 185/449 - Caption: a man kicking a soccer ball in a field\n",
      "Processed frame 186/449 - Caption: a man kicking a soccer ball in a field\n",
      "Processed frame 187/449 - Caption: a man kicking a soccer ball in a field\n",
      "Processed frame 188/449 - Caption: a man kicking a soccer ball in a field\n",
      "Processed frame 189/449 - Caption: a man kicking a soccer ball in a field\n",
      "Processed frame 190/449 - Caption: a man kicking a soccer ball in a field\n",
      "Processed frame 191/449 - Caption: a man kicking a soccer ball in a field\n",
      "Processed frame 192/449 - Caption: a man kicking a soccer ball in a field\n",
      "Processed frame 193/449 - Caption: a man kicking a soccer ball in a field\n",
      "Processed frame 194/449 - Caption: a man in a red shirt is playing soccer\n",
      "Processed frame 195/449 - Caption: a man kicking a soccer ball in a field\n",
      "Processed frame 196/449 - Caption: a man in a red shirt is playing soccer\n",
      "Processed frame 197/449 - Caption: a man kicking a soccer ball in a field\n",
      "Processed frame 198/449 - Caption: a man kicking a soccer ball in a field\n",
      "Processed frame 199/449 - Caption: a man in a red shirt\n",
      "Processed frame 200/449 - Caption: a man in a red shirt is playing soccer\n",
      "Processed frame 201/449 - Caption: a man in a red shirt is playing soccer\n",
      "Processed frame 202/449 - Caption: a man in a red shirt is playing soccer\n",
      "Processed frame 203/449 - Caption: a soccer goal with a man in the background\n",
      "Processed frame 204/449 - Caption: a soccer goal with a man in the background\n",
      "Processed frame 205/449 - Caption: a soccer goal with a man in the background\n",
      "Processed frame 206/449 - Caption: a man in a red shirt is playing soccer\n",
      "Processed frame 207/449 - Caption: a man in a red shirt is playing soccer\n",
      "Processed frame 208/449 - Caption: a soccer goal with a man in the background\n",
      "Processed frame 209/449 - Caption: a soccer goal with a man in the background\n",
      "Processed frame 210/449 - Caption: a man in a red shirt is playing soccer\n",
      "Processed frame 211/449 - Caption: a man in a red shirt is playing soccer\n",
      "Processed frame 212/449 - Caption: a man in a red shirt is playing soccer\n",
      "Processed frame 213/449 - Caption: a soccer goal with a man in the background\n",
      "Processed frame 214/449 - Caption: a soccer goal with a man in the background\n",
      "Processed frame 215/449 - Caption: a soccer goal with a man in the background\n",
      "Processed frame 216/449 - Caption: a soccer goal with a man in the background\n",
      "Processed frame 217/449 - Caption: a soccer goal with a man in the background\n",
      "Processed frame 218/449 - Caption: a soccer goal with a man in the background\n",
      "Processed frame 219/449 - Caption: a man in a red shirt is playing soccer\n",
      "Processed frame 220/449 - Caption: a man in a red shirt is playing soccer\n",
      "Processed frame 221/449 - Caption: a man in a red shirt is playing soccer\n",
      "Processed frame 222/449 - Caption: a man in a red shirt is playing soccer\n",
      "Processed frame 223/449 - Caption: a man in a red shirt is playing soccer\n",
      "Processed frame 224/449 - Caption: a man in a red shirt is playing soccer\n",
      "Processed frame 225/449 - Caption: a man in a red shirt is playing soccer\n",
      "Processed frame 226/449 - Caption: a man in a red shirt is playing soccer\n",
      "Processed frame 227/449 - Caption: a soccer goal with a man in the background\n",
      "Processed frame 228/449 - Caption: a man in a red shirt is playing soccer\n",
      "Processed frame 229/449 - Caption: a man in a red shirt is playing soccer\n",
      "Processed frame 230/449 - Caption: a man in a red shirt is playing soccer\n",
      "Processed frame 231/449 - Caption: a man in a red shirt is playing soccer\n",
      "Processed frame 232/449 - Caption: a man in a red shirt is playing soccer\n",
      "Processed frame 233/449 - Caption: a man in a red shirt is playing soccer\n",
      "Processed frame 234/449 - Caption: a soccer goal net\n",
      "Processed frame 235/449 - Caption: a man in a red shirt is playing soccer\n",
      "Processed frame 236/449 - Caption: a man and a boy playing soccer on a field\n",
      "Processed frame 237/449 - Caption: a man and a boy playing soccer on a field\n",
      "Processed frame 238/449 - Caption: a man and a woman playing soccer on a field\n",
      "Processed frame 239/449 - Caption: a man and a woman playing soccer on a field\n",
      "Processed frame 240/449 - Caption: a man and a woman playing soccer on a field\n",
      "Processed frame 241/449 - Caption: a man and a woman playing soccer on a field\n",
      "Processed frame 242/449 - Caption: a man and a woman playing soccer on a field\n",
      "Processed frame 243/449 - Caption: a man in a red shirt is playing soccer\n",
      "Processed frame 244/449 - Caption: a man in a red shirt is playing soccer\n",
      "Processed frame 245/449 - Caption: a woman in a red shirt is playing soccer\n",
      "Processed frame 246/449 - Caption: a man in a red shirt is playing soccer\n",
      "Processed frame 247/449 - Caption: a man in a red shirt is playing soccer\n",
      "Processed frame 248/449 - Caption: a man in a red shirt is playing soccer\n",
      "Processed frame 249/449 - Caption: a man in a red shirt is playing soccer\n",
      "Processed frame 250/449 - Caption: a man in a red shirt is playing soccer\n",
      "Processed frame 251/449 - Caption: a man in a red shirt is playing soccer\n",
      "Processed frame 252/449 - Caption: a man in a red shirt is playing soccer\n",
      "Processed frame 253/449 - Caption: a man in a red shirt is playing soccer\n",
      "Processed frame 254/449 - Caption: a man in a red shirt is playing soccer\n",
      "Processed frame 255/449 - Caption: a group of people playing soccer on a field\n",
      "Processed frame 256/449 - Caption: a group of people playing soccer on a field\n",
      "Processed frame 257/449 - Caption: a group of people playing soccer on a field\n",
      "Processed frame 258/449 - Caption: a group of people playing soccer on a field\n",
      "Processed frame 259/449 - Caption: a group of people playing soccer on a field\n",
      "Processed frame 260/449 - Caption: a group of people playing soccer on a field\n",
      "Processed frame 261/449 - Caption: a group of people playing soccer on a field\n",
      "Processed frame 262/449 - Caption: a group of people playing soccer on a field\n",
      "Processed frame 263/449 - Caption: a group of people playing soccer on a field\n",
      "Processed frame 264/449 - Caption: a soccer goal with a man in the background\n",
      "Processed frame 265/449 - Caption: a man is playing soccer on a field\n",
      "Processed frame 266/449 - Caption: a soccer goal with a man in the background\n",
      "Processed frame 267/449 - Caption: a group of people playing soccer on a field\n",
      "Processed frame 268/449 - Caption: a man in a red shirt is playing soccer\n",
      "Processed frame 269/449 - Caption: a man in a red shirt is playing soccer\n",
      "Processed frame 270/449 - Caption: a man in a red shirt is playing soccer\n",
      "Processed frame 271/449 - Caption: a man in a red shirt is playing soccer\n",
      "Processed frame 272/449 - Caption: a man in a red shirt is playing soccer\n",
      "Processed frame 273/449 - Caption: a man in a red shirt is playing soccer\n",
      "Processed frame 274/449 - Caption: a man in a red shirt is playing soccer\n",
      "Processed frame 275/449 - Caption: a man in a red shirt is playing soccer\n",
      "Processed frame 276/449 - Caption: a man in a red shirt is playing soccer\n",
      "Processed frame 277/449 - Caption: a man in a red shirt is playing soccer\n",
      "Processed frame 278/449 - Caption: a man in a red shirt is playing soccer\n",
      "Processed frame 279/449 - Caption: a man in a red shirt is playing soccer\n",
      "Processed frame 280/449 - Caption: a man in a red shirt is playing soccer\n",
      "Processed frame 281/449 - Caption: a man in a red shirt is playing soccer\n",
      "Processed frame 282/449 - Caption: a man in a red shirt is playing soccer\n",
      "Processed frame 283/449 - Caption: a man in a red shirt is playing soccer\n",
      "Processed frame 284/449 - Caption: a man in a red shirt is playing soccer\n",
      "Processed frame 285/449 - Caption: a man in a red shirt is playing soccer\n",
      "Processed frame 286/449 - Caption: a man in a red shirt is playing soccer\n",
      "Processed frame 287/449 - Caption: a man in a red shirt is playing soccer\n",
      "Processed frame 288/449 - Caption: a man in a red shirt is playing soccer\n",
      "Processed frame 289/449 - Caption: a man in a red shirt is playing soccer\n",
      "Processed frame 290/449 - Caption: a man in a red shirt is playing soccer\n",
      "Processed frame 291/449 - Caption: a man in a red shirt is playing soccer\n",
      "Processed frame 292/449 - Caption: a man in a red shirt is playing soccer\n",
      "Processed frame 293/449 - Caption: a man in a red shirt is playing soccer\n",
      "Processed frame 294/449 - Caption: a man in a red shirt is playing soccer\n",
      "Processed frame 295/449 - Caption: a man in a red shirt is playing soccer\n",
      "Processed frame 296/449 - Caption: a man in a red shirt is playing soccer\n",
      "Processed frame 297/449 - Caption: a man in a red shirt is playing soccer\n",
      "Processed frame 298/449 - Caption: a man in a red shirt is playing soccer\n",
      "Processed frame 299/449 - Caption: a man in a red shirt is playing soccer\n",
      "Processed frame 300/449 - Caption: a man in a red shirt is playing soccer\n",
      "Processed frame 301/449 - Caption: a man in a red shirt is playing soccer\n",
      "Processed frame 302/449 - Caption: a man in a red shirt\n",
      "Processed frame 303/449 - Caption: a man in a red shirt is playing soccer\n",
      "Processed frame 304/449 - Caption: a man in a red shirt is playing soccer\n",
      "Processed frame 305/449 - Caption: a man in a red shirt is playing soccer\n",
      "Processed frame 306/449 - Caption: a man in a red shirt is playing soccer\n",
      "Processed frame 307/449 - Caption: a man in a red shirt is playing soccer\n",
      "Processed frame 308/449 - Caption: a man in a red shirt is playing soccer\n",
      "Processed frame 309/449 - Caption: a man in a red shirt\n",
      "Processed frame 310/449 - Caption: a man in a red shirt is playing soccer\n",
      "Processed frame 311/449 - Caption: a man in a red shirt\n",
      "Processed frame 312/449 - Caption: a man in a red shirt\n",
      "Processed frame 313/449 - Caption: a man in a red shirt\n",
      "Processed frame 314/449 - Caption: a man in a red shirt\n",
      "Processed frame 315/449 - Caption: a man in a red shirt\n",
      "Processed frame 316/449 - Caption: a man in a red shirt\n",
      "Processed frame 317/449 - Caption: a man in a red shirt is playing soccer\n",
      "Processed frame 318/449 - Caption: a man in a red shirt\n",
      "Processed frame 319/449 - Caption: a man in a red shirt is playing soccer\n",
      "Processed frame 320/449 - Caption: a soccer goal net\n",
      "Processed frame 321/449 - Caption: a man in a red shirt is playing soccer\n",
      "Processed frame 322/449 - Caption: a man in a red shirt is playing soccer\n",
      "Processed frame 323/449 - Caption: a man in a red shirt is playing soccer\n",
      "Processed frame 324/449 - Caption: a man in a red shirt\n",
      "Processed frame 325/449 - Caption: a man in a red shirt is playing soccer\n",
      "Processed frame 326/449 - Caption: a man in a red shirt\n",
      "Processed frame 327/449 - Caption: a man in a red shirt is playing soccer\n",
      "Processed frame 328/449 - Caption: a man in a red shirt is playing soccer\n",
      "Processed frame 329/449 - Caption: a man in a red shirt is playing soccer\n",
      "Processed frame 330/449 - Caption: a man in a red shirt is playing soccer\n",
      "Processed frame 331/449 - Caption: a man in a red shirt is playing soccer\n",
      "Processed frame 332/449 - Caption: a man in a red shirt\n",
      "Processed frame 333/449 - Caption: a man in a red shirt is playing soccer\n",
      "Processed frame 334/449 - Caption: a man in a red shirt\n",
      "Processed frame 335/449 - Caption: a man in a red shirt\n",
      "Processed frame 336/449 - Caption: a man in a red shirt\n",
      "Processed frame 337/449 - Caption: a man in a red shirt\n",
      "Processed frame 338/449 - Caption: a man in a red shirt\n",
      "Processed frame 339/449 - Caption: a man in a red shirt\n",
      "Processed frame 340/449 - Caption: a man in a red shirt\n",
      "Processed frame 341/449 - Caption: a man in a red shirt\n",
      "Processed frame 342/449 - Caption: a man in a red shirt\n",
      "Processed frame 343/449 - Caption: a man in a red shirt\n",
      "Processed frame 344/449 - Caption: a man in a red shirt\n",
      "Processed frame 345/449 - Caption: a man in a red shirt\n",
      "Processed frame 346/449 - Caption: a man in a red shirt\n",
      "Processed frame 347/449 - Caption: a man in a red shirt\n",
      "Processed frame 348/449 - Caption: a man in a red shirt is playing soccer\n",
      "Processed frame 349/449 - Caption: a man in a red shirt is playing soccer\n",
      "Processed frame 350/449 - Caption: a man in a red shirt is playing soccer\n",
      "Processed frame 351/449 - Caption: a man in a red shirt is playing soccer\n",
      "Processed frame 352/449 - Caption: a man in a red shirt\n",
      "Processed frame 353/449 - Caption: a man in a red shirt is playing soccer\n",
      "Processed frame 354/449 - Caption: a man in a red shirt\n",
      "Processed frame 355/449 - Caption: a man in a red shirt is playing soccer\n",
      "Processed frame 356/449 - Caption: a man in a red shirt is playing soccer\n",
      "Processed frame 357/449 - Caption: a man in a red shirt is playing soccer\n",
      "Processed frame 358/449 - Caption: a man in a red shirt is playing soccer\n",
      "Processed frame 359/449 - Caption: a man in a red shirt is playing soccer\n",
      "Processed frame 360/449 - Caption: a man in a red shirt\n",
      "Processed frame 361/449 - Caption: a man in a red shirt\n",
      "Processed frame 362/449 - Caption: a man in a red shirt is playing soccer\n",
      "Processed frame 363/449 - Caption: a man in a red shirt is playing soccer\n",
      "Processed frame 364/449 - Caption: a man in a red shirt is playing soccer\n",
      "Processed frame 365/449 - Caption: a man in a red shirt is playing soccer\n",
      "Processed frame 366/449 - Caption: a man in a red shirt is playing soccer\n",
      "Processed frame 367/449 - Caption: a man in a red shirt is playing soccer\n",
      "Processed frame 368/449 - Caption: a man in a red shirt is playing soccer\n",
      "Processed frame 369/449 - Caption: a man in a red shirt\n",
      "Processed frame 370/449 - Caption: a man in a red shirt is playing soccer\n",
      "Processed frame 371/449 - Caption: a man in a red shirt is playing soccer\n",
      "Processed frame 372/449 - Caption: a man is playing soccer with a ball\n",
      "Processed frame 373/449 - Caption: a man in a red shirt is playing soccer\n",
      "Processed frame 374/449 - Caption: a man in a red shirt is playing soccer\n",
      "Processed frame 375/449 - Caption: a man and a woman playing soccer on a field\n",
      "Processed frame 376/449 - Caption: a man and a woman playing soccer on a field\n",
      "Processed frame 377/449 - Caption: a man and a woman playing soccer on a field\n",
      "Processed frame 378/449 - Caption: a man in a red shirt is playing soccer\n",
      "Processed frame 379/449 - Caption: a man in a red shirt is playing soccer\n",
      "Processed frame 380/449 - Caption: a man in a red shirt\n",
      "Processed frame 381/449 - Caption: a man in a red shirt is playing soccer\n",
      "Processed frame 382/449 - Caption: a man in a red shirt is playing soccer\n",
      "Processed frame 383/449 - Caption: a man in a red shirt\n",
      "Processed frame 384/449 - Caption: a man in a red shirt is playing soccer\n",
      "Processed frame 385/449 - Caption: a man in a red shirt is playing soccer\n",
      "Processed frame 386/449 - Caption: a man in a red shirt is playing soccer\n",
      "Processed frame 387/449 - Caption: a man and woman playing soccer on a field\n",
      "Processed frame 388/449 - Caption: a man and a woman playing soccer on a field\n",
      "Processed frame 389/449 - Caption: a man in a red shirt is playing soccer\n",
      "Processed frame 390/449 - Caption: a man in a red shirt is playing soccer\n",
      "Processed frame 391/449 - Caption: a man and a woman playing soccer on a field\n",
      "Processed frame 392/449 - Caption: a man in a red shirt is playing soccer\n",
      "Processed frame 393/449 - Caption: a man in a red shirt is playing soccer\n",
      "Processed frame 394/449 - Caption: a man in a red shirt is playing soccer\n",
      "Processed frame 395/449 - Caption: a man in a red shirt is playing soccer\n",
      "Processed frame 396/449 - Caption: a man in a red shirt is playing soccer\n",
      "Processed frame 397/449 - Caption: a man in a red shirt is playing soccer\n",
      "Processed frame 398/449 - Caption: a man in a red shirt is playing soccer\n",
      "Processed frame 399/449 - Caption: a man in a red shirt\n",
      "Processed frame 400/449 - Caption: a man in a red shirt is playing soccer\n",
      "Processed frame 401/449 - Caption: a man in a red shirt\n",
      "Processed frame 402/449 - Caption: a man in a red shirt is playing soccer\n",
      "Processed frame 403/449 - Caption: a man in a red shirt\n",
      "Processed frame 404/449 - Caption: a man in a red shirt\n",
      "Processed frame 405/449 - Caption: a man in a red shirt is playing soccer\n",
      "Processed frame 406/449 - Caption: a man in a red shirt is playing soccer\n",
      "Processed frame 407/449 - Caption: a man in a red shirt\n",
      "Processed frame 408/449 - Caption: a man in a red shirt\n",
      "Processed frame 409/449 - Caption: a man in a red shirt\n",
      "Processed frame 410/449 - Caption: a man in a red shirt\n",
      "Processed frame 411/449 - Caption: a man and a woman playing soccer on a field\n",
      "Processed frame 412/449 - Caption: a man in a red shirt\n",
      "Processed frame 413/449 - Caption: a man and a woman playing soccer on a field\n",
      "Processed frame 414/449 - Caption: a man and a woman playing soccer on a field\n",
      "Processed frame 415/449 - Caption: a man and a woman playing soccer on a field\n",
      "Processed frame 416/449 - Caption: a man and a woman playing soccer on a field\n",
      "Processed frame 417/449 - Caption: a man and a woman playing soccer on a field\n",
      "Processed frame 418/449 - Caption: a man standing in front of a soccer goal\n",
      "Processed frame 419/449 - Caption: a man in a red shirt\n",
      "Processed frame 420/449 - Caption: a man in a red shirt\n",
      "Processed frame 421/449 - Caption: a man in a red shirt\n",
      "Processed frame 422/449 - Caption: a man in a red shirt\n",
      "Processed frame 423/449 - Caption: a group of people playing soccer on a field\n",
      "Processed frame 424/449 - Caption: a group of people playing soccer on a field\n",
      "Processed frame 425/449 - Caption: a group of people playing soccer on a field\n",
      "Processed frame 426/449 - Caption: a group of people playing soccer on a field\n",
      "Processed frame 427/449 - Caption: a group of people playing soccer on a field\n",
      "Processed frame 428/449 - Caption: a group of people playing soccer on a field\n",
      "Processed frame 429/449 - Caption: a group of people playing soccer on a field\n",
      "Processed frame 430/449 - Caption: a group of people playing soccer on a field\n",
      "Processed frame 431/449 - Caption: a group of people playing soccer on a field\n",
      "Processed frame 432/449 - Caption: a group of people playing soccer on a field\n",
      "Processed frame 433/449 - Caption: a group of people playing soccer on a field\n",
      "Processed frame 434/449 - Caption: a group of people playing soccer on a field\n",
      "Processed frame 435/449 - Caption: a group of people playing soccer on a field\n",
      "Processed frame 436/449 - Caption: a group of people playing soccer on a field\n",
      "Processed frame 437/449 - Caption: a group of people playing soccer on a field\n",
      "Processed frame 438/449 - Caption: a group of people playing soccer on a field\n",
      "Processed frame 439/449 - Caption: a group of people playing soccer on a field\n",
      "Processed frame 440/449 - Caption: a group of people playing soccer on a field\n",
      "Processed frame 441/449 - Caption: a group of people playing soccer on a field\n",
      "Processed frame 442/449 - Caption: a group of people playing soccer on a field\n",
      "Processed frame 443/449 - Caption: a group of people playing soccer on a field\n",
      "Processed frame 444/449 - Caption: a group of people playing soccer on a field\n",
      "Processed frame 445/449 - Caption: a group of people playing soccer on a field\n",
      "Processed frame 446/449 - Caption: a group of people playing soccer on a field\n",
      "Processed frame 447/449 - Caption: a group of people playing soccer on a field\n",
      "Processed frame 448/449 - Caption: a group of people playing soccer on a field\n",
      "Processed frame 449/449 - Caption: a group of people playing soccer on a field\n"
     ]
    }
   ],
   "source": [
    "while True:\n",
    "    ret, frame = cap.read()\n",
    "    if not ret:\n",
    "        break\n",
    "\n",
    "    # Resize and convert frame to RGB\n",
    "    height, width = frame.shape[:2]\n",
    "    frame = cv2.resize(frame, (width // 6, height // 6))\n",
    "    frame_rgb = cv2.cvtColor(frame, cv2.COLOR_BGR2RGB)\n",
    "    frame_image = Image.fromarray(frame_rgb)\n",
    "\n",
    "    # Generate caption\n",
    "    inputs = processor(images=frame_image, return_tensors='pt')\n",
    "    outputs = caption_model.generate(**inputs)\n",
    "    caption = processor.decode(outputs[0], skip_special_tokens=True)\n",
    "\n",
    "    if caption not in dialogs:\n",
    "        dialogs.append(caption)\n",
    "\n",
    "    count += 1\n",
    "    print(f\"Processed frame {count}/{total_frames} - Caption: {caption}\")\n",
    "\n",
    "cap.release()\n",
    "cv2.destroyAllWindows()"
   ]
  },
  {
   "cell_type": "code",
   "execution_count": 10,
   "id": "4e86fc20",
   "metadata": {},
   "outputs": [
    {
     "name": "stdout",
     "output_type": "stream",
     "text": [
      "\n",
      "[INFO] Generating voiceover script using LLM...\n"
     ]
    }
   ],
   "source": [
    "full_dialog='.'.join(dialogs)\n",
    "print(\"\\n[INFO] Generating voiceover script using LLM...\")"
   ]
  },
  {
   "cell_type": "code",
   "execution_count": 66,
   "id": "73f9d210",
   "metadata": {},
   "outputs": [
    {
     "data": {
      "text/plain": [
       "'prompt = ChatPromptTemplate.from_messages([\\n    (\"system\", \\n     \"You are a passionate soccer commentator narrating a highlight video. The following text contains automatically generated scene captions from a soccer match video. Based on them, write an exciting, energetic voiceover as if you\\'re describing the scenes live on air. Use natural storytelling — no lists, no analysis. Just pure commentary with emotion, momentum, and drama. Make it cinematic and flowing, like a highlight reel on ESPN.\"),\\n    (\"human\", \"{text}\")\\n])\\n'"
      ]
     },
     "execution_count": 66,
     "metadata": {},
     "output_type": "execute_result"
    }
   ],
   "source": [
    "prompt = ChatPromptTemplate.from_messages([\n",
    "    (\"system\", \n",
    "     \"You are a passionate soccer commentator narrating a highlight video. The following text contains scene captions from a soccer match. Write a short, vivid, emotionally charged voiceover — like you're calling a live ESPN highlight. Use energetic storytelling, avoid lists, and keep it under 30 seconds.\"),\n",
    "    (\"human\", \"{text}\")\n",
    "])\n",
    "\n",
    "\n",
    "\n",
    "\"\"\"prompt = ChatPromptTemplate.from_messages([\n",
    "    (\"system\", \n",
    "     \"You are a passionate soccer commentator narrating a highlight video. The following text contains automatically generated scene captions from a soccer match video. Based on them, write an exciting, energetic voiceover as if you're describing the scenes live on air. Use natural storytelling — no lists, no analysis. Just pure commentary with emotion, momentum, and drama. Make it cinematic and flowing, like a highlight reel on ESPN.\"),\n",
    "    (\"human\", \"{text}\")\n",
    "])\n",
    "\"\"\""
   ]
  },
  {
   "cell_type": "code",
   "execution_count": 67,
   "id": "a4bb65d3",
   "metadata": {},
   "outputs": [],
   "source": [
    "formatted_prompt=prompt.format_messages(text=full_dialog)"
   ]
  },
  {
   "cell_type": "code",
   "execution_count": 68,
   "id": "5a46edfb",
   "metadata": {},
   "outputs": [
    {
     "name": "stdout",
     "output_type": "stream",
     "text": [
      "\"FOLKS, WE'VE GOT A GOAL OF THE SEASON RIGHT HERE! The Red Devil, number 10, has just written his name across the scoreboard in bold letters! He receives the pass, beats two defenders with a mesmerizing move, and UNLEASHES A BEAUTY FROM JUST OUTSIDE THE BOX! The ball dips and swerves, leaving the keeper grasping at air as it finds its way into the net. The crowd ERUPTS in ecstasy as our hero celebrates with his teammates. This is what soccer dreams are made of, folks! The Red Devil has given his team the lead, and we're witnessing pure MAGIC on this beautiful grass!\"\n"
     ]
    }
   ],
   "source": [
    "response=llm.invoke(formatted_prompt)\n",
    "print(response)"
   ]
  },
  {
   "cell_type": "code",
   "execution_count": 69,
   "id": "70c41e78",
   "metadata": {},
   "outputs": [],
   "source": [
    "def remove_brackets(text):\n",
    "    cleaned=re.sub(r'\\([^)]*\\)', '', text) \n",
    "    cleaned=re.sub(r'\\([^)]*\\)', '', cleaned) \n",
    "    cleaned=re.sub(r'\\s+',' ',cleaned).strip()\n",
    "    return cleaned"
   ]
  },
  {
   "cell_type": "code",
   "execution_count": 70,
   "id": "a896b4f5",
   "metadata": {},
   "outputs": [],
   "source": [
    "response=remove_brackets(response)"
   ]
  },
  {
   "cell_type": "code",
   "execution_count": null,
   "id": "5b4a00d3",
   "metadata": {},
   "outputs": [],
   "source": []
  },
  {
   "cell_type": "code",
   "execution_count": 72,
   "id": "1d6b9292",
   "metadata": {},
   "outputs": [
    {
     "name": "stdout",
     "output_type": "stream",
     "text": [
      "\n",
      "[INFO] Stitching audio with video using moviepy...\n"
     ]
    }
   ],
   "source": [
    "while not os.path.exists(audio_output):\n",
    "    pass\n",
    "print(\"\\n[INFO] Stitching audio with video using moviepy...\")"
   ]
  },
  {
   "cell_type": "code",
   "execution_count": 73,
   "id": "75853680",
   "metadata": {},
   "outputs": [],
   "source": [
    "video_clip=VideoFileClip(video_path)\n",
    "audio_clip=AudioFileClip(audio_output)"
   ]
  },
  {
   "cell_type": "code",
   "execution_count": 86,
   "id": "3f8cc90e",
   "metadata": {},
   "outputs": [],
   "source": [
    "video_duration = video_clip.duration\n",
    "audio_duration = audio_clip.duration"
   ]
  },
  {
   "cell_type": "code",
   "execution_count": 88,
   "id": "4e28216b",
   "metadata": {},
   "outputs": [],
   "source": [
    "speed_factor=video_duration/(audio_duration*2)\n",
    "loop_count=int(video_duration//audio_duration)+1"
   ]
  },
  {
   "cell_type": "code",
   "execution_count": 96,
   "id": "f85d8f01",
   "metadata": {},
   "outputs": [],
   "source": [
    "looped_clip=[video_clip]*loop_count\n",
    "looped_video=video_clip.loop(duration=audio_clip.duration)"
   ]
  },
  {
   "cell_type": "code",
   "execution_count": 97,
   "id": "1b4c6d86",
   "metadata": {},
   "outputs": [],
   "source": [
    "final_clip = looped_video.set_audio(audio_clip)"
   ]
  },
  {
   "cell_type": "code",
   "execution_count": 98,
   "id": "f2c995de",
   "metadata": {},
   "outputs": [
    {
     "name": "stdout",
     "output_type": "stream",
     "text": [
      "Moviepy - Building video final_output_with_audio.mp4.\n",
      "MoviePy - Writing audio in final_output_with_audioTEMP_MPY_wvf_snd.mp4\n"
     ]
    },
    {
     "name": "stderr",
     "output_type": "stream",
     "text": [
      "chunk:   0%|          | 0/987 [00:00<?, ?it/s, now=None]"
     ]
    },
    {
     "name": "stderr",
     "output_type": "stream",
     "text": [
      "                                                                   \r"
     ]
    },
    {
     "name": "stdout",
     "output_type": "stream",
     "text": [
      "MoviePy - Done.\n",
      "Moviepy - Writing video final_output_with_audio.mp4\n",
      "\n"
     ]
    },
    {
     "name": "stderr",
     "output_type": "stream",
     "text": [
      "                                                                \r"
     ]
    },
    {
     "name": "stdout",
     "output_type": "stream",
     "text": [
      "Moviepy - Done !\n",
      "Moviepy - video ready final_output_with_audio.mp4\n"
     ]
    }
   ],
   "source": [
    "final_clip.write_videofile(final_video_output, codec='libx264', audio_codec='aac')\n"
   ]
  },
  {
   "cell_type": "code",
   "execution_count": 99,
   "id": "57a64f3d",
   "metadata": {},
   "outputs": [
    {
     "name": "stdout",
     "output_type": "stream",
     "text": [
      "\n",
      "[INFO] Opening final video...\n"
     ]
    }
   ],
   "source": [
    "print(\"\\n[INFO] Opening final video...\")\n",
    "os.startfile(final_video_output)"
   ]
  },
  {
   "cell_type": "code",
   "execution_count": null,
   "id": "be93ad8c",
   "metadata": {},
   "outputs": [],
   "source": []
  },
  {
   "cell_type": "code",
   "execution_count": null,
   "id": "6cf5f36a",
   "metadata": {},
   "outputs": [],
   "source": []
  }
 ],
 "metadata": {
  "kernelspec": {
   "display_name": "video_env",
   "language": "python",
   "name": "python3"
  },
  "language_info": {
   "codemirror_mode": {
    "name": "ipython",
    "version": 3
   },
   "file_extension": ".py",
   "mimetype": "text/x-python",
   "name": "python",
   "nbconvert_exporter": "python",
   "pygments_lexer": "ipython3",
   "version": "3.10.18"
  }
 },
 "nbformat": 4,
 "nbformat_minor": 5
}
